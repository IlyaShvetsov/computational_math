{
 "cells": [
  {
   "cell_type": "markdown",
   "metadata": {},
   "source": [
    "# Метод Гаусса с выбором главного элемента"
   ]
  },
  {
   "cell_type": "markdown",
   "metadata": {},
   "source": [
    "Написать программу для решения линейной системы $Ax = b$\n",
    "методом Гаусса с выбором главного элемента (по строке или по столбцу). <br> <br>\n",
    "Требования к программе: <br>\n",
    "• Программа должна принимать на вход матрицу и правую часть <br>\n",
    "• Сначала нужно вычислить матрицы L, U и матрицу перестановки P <br>\n",
    "• После этого нужно решить системы с треугольными матрицами <br>\n",
    "• Нельзя использовать матричное умножение и обращение матриц. Метод нужно реализовать с помощью циклов, поэлементно. <br>\n",
    "• Программа должна выводить норму разницы между полученным решением и решением из стандартной функции numpy.linalg.solve."
   ]
  },
  {
   "cell_type": "code",
   "execution_count": 13,
   "metadata": {
    "collapsed": false,
    "scrolled": false
   },
   "outputs": [],
   "source": [
    "import numpy as np\n",
    "import scipy.linalg as la\n",
    "\n",
    "def swap_strings(X, i, j):\n",
    "    for k in range(n):\n",
    "        X[i][k], X[j][k] = X[j][k], X[i][k]\n",
    "        \n",
    "def swap_columns(X, i, j):\n",
    "    for k in range(n):\n",
    "        X[k][i], X[k][j] = X[k][j], X[k][i]\n",
    "        \n",
    "def find_pivot(step):\n",
    "    max = abs(U[step][step])\n",
    "    ind = step\n",
    "    for i in range(step+1, n):\n",
    "        if abs(U[i][step]) > max:\n",
    "            max = abs(U[i][step])\n",
    "            ind = i\n",
    "    return ind"
   ]
  },
  {
   "cell_type": "code",
   "execution_count": 14,
   "metadata": {
    "collapsed": true
   },
   "outputs": [],
   "source": [
    "n = 4\n",
    "A = np.random.rand(n,n)\n",
    "b = np.random.rand(n)\n",
    "#print(A)\n",
    "#print(b)"
   ]
  },
  {
   "cell_type": "code",
   "execution_count": 15,
   "metadata": {
    "collapsed": false
   },
   "outputs": [
    {
     "name": "stdout",
     "output_type": "stream",
     "text": [
      "ans:  [ 2.59217045  1.57433865  0.5833625  -2.49972168]\n",
      "error:  6.66133814775e-16\n"
     ]
    }
   ],
   "source": [
    "U = np.zeros((n,n))\n",
    "for i in range(n):\n",
    "    for j in range(n):\n",
    "        U[i][j] = A[i][j]\n",
    "L = np.zeros((n,n))\n",
    "for i in range(n):\n",
    "    L[i][i] = 1\n",
    "P = np.zeros((n,n))\n",
    "for i in range(n):\n",
    "    P[i][i] = 1\n",
    "    \n",
    "for i in range(n-1):\n",
    "    pivot_ind = find_pivot(i)\n",
    "    swap_strings(U, i, pivot_ind)\n",
    "    swap_strings(P, i, pivot_ind)\n",
    "    swap_strings(L, i, pivot_ind)\n",
    "    swap_columns(L, i, pivot_ind)\n",
    "    for j in range(i+1, n):\n",
    "        mult = U[j][i]/U[i][i]\n",
    "        L[j][i] = mult\n",
    "        for k in range(i, n):\n",
    "            U[j][k] = U[j][k] - U[i][k]*mult    \n",
    "        \n",
    "#print(U)\n",
    "#print()\n",
    "#print(L)\n",
    "#print()\n",
    "#print(P)\n",
    "#print()\n",
    "\n",
    "right = np.zeros(n)\n",
    "for i in range(n):\n",
    "    for j in range(n):\n",
    "        right[i] += b[j]*P[i][j]\n",
    "\n",
    "y = np.zeros(n)\n",
    "for i in range(n):\n",
    "    y[i] = right[i]\n",
    "    for j in range(i):\n",
    "        y[i] -= y[j]*L[i][j] \n",
    "x = np.zeros(n)\n",
    "for i in range(n-1, -1, -1):\n",
    "    x[i] = y[i]\n",
    "    for j in range(n-1, i, -1):\n",
    "        x[i] -= x[j]*U[i][j]\n",
    "    x[i]/=U[i][i]\n",
    "    \n",
    "print(\"ans: \", x)\n",
    "z = np.linalg.solve(A, b)\n",
    "print(\"error: \", np.linalg.norm(z-x))"
   ]
  }
 ],
 "metadata": {
  "kernelspec": {
   "display_name": "Python 3",
   "language": "python",
   "name": "python3"
  },
  "language_info": {
   "codemirror_mode": {
    "name": "ipython",
    "version": 3
   },
   "file_extension": ".py",
   "mimetype": "text/x-python",
   "name": "python",
   "nbconvert_exporter": "python",
   "pygments_lexer": "ipython3",
   "version": "3.6.3"
  }
 },
 "nbformat": 4,
 "nbformat_minor": 2
}
